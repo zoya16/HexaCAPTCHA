{
 "cells": [
  {
   "cell_type": "code",
   "execution_count": null,
   "id": "8db82d45",
   "metadata": {},
   "outputs": [],
   "source": [
    "import pandas as pd\n",
    "import numpy as np\n",
    "import glob\n",
    "import cv2\n",
    "import matplotlib.pyplot as plt\n",
    "import os\n",
    "from PIL import Image\n",
    "import tensorflow as tf\n",
    "from tensorflow import keras\n",
    "from sklearn.model_selection import train_test_split\n",
    "import pickle"
   ]
  },
  {
   "cell_type": "code",
   "execution_count": null,
   "id": "bf8e26d5",
   "metadata": {},
   "outputs": [],
   "source": [
    "png_files = []\n",
    "folder_path = r\"/home/legendarygene/Desktop/assn2/train/\"\n",
    "for i in range(0,2000):\n",
    "    file = glob.glob(f\"{folder_path}{i}.png\")\n",
    "    png_files.append(file)"
   ]
  },
  {
   "cell_type": "code",
   "execution_count": null,
   "id": "2d99ef5f",
   "metadata": {},
   "outputs": [],
   "source": [
    "cropped_train = []\n",
    "\n",
    "def cropper(i):\n",
    "    image = Image.open(png_files[i][0])\n",
    "    width, height = image.size\n",
    "\n",
    "    crop_region = (width - 140, 10, width - 50, height)\n",
    "    ci = image.crop(crop_region)\n",
    "    ci = np.asarray(ci)\n",
    "    \n",
    "    _,img = cv2.threshold(ci,165,255,cv2.THRESH_BINARY)\n",
    "    img = cv2.cvtColor(img, cv2.COLOR_BGR2GRAY)\n",
    "    _,img = cv2.threshold(img,254,255,cv2.THRESH_BINARY)\n",
    "    kernel = np.ones((5,5), np.uint8)\n",
    "    img_erode = cv2.dilate(img, kernel)\n",
    "    cropped_train.append(img_erode)"
   ]
  },
  {
   "cell_type": "code",
   "execution_count": null,
   "id": "373314d2",
   "metadata": {},
   "outputs": [],
   "source": [
    "for i in range(2000):\n",
    "    cropper(i)\n",
    "x_train = np.array(cropped_train)\n",
    "file = open(r\"/home/legendarygene/Desktop/assn2/train/labels.txt\", \"r\")\n",
    "temp = file.read().splitlines()\n",
    "y_train = np.array(temp)"
   ]
  },
  {
   "cell_type": "code",
   "execution_count": null,
   "id": "9bbffc90",
   "metadata": {},
   "outputs": [],
   "source": [
    "Y_train =[]\n",
    "for i in range(2000):\n",
    "    if y_train[i] == 'ODD':\n",
    "        Y_train.append(1)\n",
    "    else:\n",
    "        Y_train.append(0)\n",
    "Y_train = np.array(Y_train)"
   ]
  },
  {
   "cell_type": "code",
   "execution_count": null,
   "metadata": {},
   "outputs": [],
   "source": [
    "X_trn, x_tst,Y_trn, y_tst = train_test_split(x_train,Y_train,test_size=0.25)"
   ]
  },
  {
   "cell_type": "code",
   "execution_count": null,
   "id": "24e20bfa",
   "metadata": {},
   "outputs": [],
   "source": [
    "X_trn = X_trn / 255.0\n",
    "\n",
    "model = tf.keras.models.Sequential([\n",
    "    tf.keras.layers.Conv2D(2, kernel_size=(3, 3), activation='relu', input_shape=(90, 90, 1)),\n",
    "    tf.keras.layers.MaxPooling2D(pool_size=(2, 2)),\n",
    "    tf.keras.layers.Conv2D(4, kernel_size=(3, 3), activation='relu'),\n",
    "    tf.keras.layers.MaxPooling2D(pool_size=(2, 2)),\n",
    "    tf.keras.layers.Conv2D(8, kernel_size=(3, 3), activation='relu'),\n",
    "    tf.keras.layers.MaxPooling2D(pool_size=(2, 2)),\n",
    "    tf.keras.layers.Conv2D(8, kernel_size=(3, 3), activation='relu'),\n",
    "    tf.keras.layers.MaxPooling2D(pool_size=(2, 2)),\n",
    "    tf.keras.layers.Flatten(),\n",
    "    tf.keras.layers.Dense(4, activation='relu'),\n",
    "    tf.keras.layers.Dense(1, activation='sigmoid')\n",
    "])\n",
    "\n",
    "model.compile(optimizer='adam', loss='binary_crossentropy', metrics=['accuracy'])\n",
    "model.summary()\n",
    "model.fit(X_trn, Y_trn, epochs=30, batch_size=32)\n",
    "# model.save_weights('model.h5')\n",
    "weights_file = \"final.pkl\"\n",
    "with open(weights_file, \"wb\") as f:\n",
    "    pickle.dump(model, f)\n"
   ]
  },
  {
   "cell_type": "code",
   "execution_count": null,
   "id": "9ee143de",
   "metadata": {},
   "outputs": [],
   "source": [
    "predictions = model.predict(x_tst)\n",
    "count = 0\n",
    "for i in range(500):\n",
    "    if predictions[i] == y_tst[i]:\n",
    "        count = count + 1\n",
    "count/5.0"
   ]
  }
 ],
 "metadata": {
  "kernelspec": {
   "display_name": "Python 3 (ipykernel)",
   "language": "python",
   "name": "python3"
  },
  "language_info": {
   "codemirror_mode": {
    "name": "ipython",
    "version": 3
   },
   "file_extension": ".py",
   "mimetype": "text/x-python",
   "name": "python",
   "nbconvert_exporter": "python",
   "pygments_lexer": "ipython3",
   "version": "3.10.6"
  }
 },
 "nbformat": 4,
 "nbformat_minor": 5
}
